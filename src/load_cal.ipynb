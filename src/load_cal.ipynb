{
 "cells": [
  {
   "cell_type": "code",
   "execution_count": 8,
   "metadata": {},
   "outputs": [],
   "source": [
    "from ics import Calendar\n",
    "import csv\n",
    "import pandas as pd"
   ]
  },
  {
   "cell_type": "code",
   "execution_count": 1,
   "metadata": {},
   "outputs": [],
   "source": [
    "def preprocess(input_path, output_path):\n",
    "    \"\"\"\n",
    "    Adjust the formatting of LOCATION lines so that the next two lines are indented.\n",
    "    \"\"\"\n",
    "    with open(input_path, 'r', encoding='utf-8') as f:\n",
    "        lines = f.readlines()\n",
    "\n",
    "    processed_lines = []\n",
    "    i = 0\n",
    "    while i < len(lines):\n",
    "        line = lines[i]\n",
    "        processed_lines.append(line)\n",
    "\n",
    "        # Check if this line is a LOCATION line\n",
    "        if line.startswith(\"LOCATION:\"):\n",
    "            # Indent the next two lines if they exist\n",
    "            if i + 1 < len(lines) and not lines[i + 1].startswith(\" \"):\n",
    "                processed_lines.append(\" \" + lines[i + 1].strip() + \"\\n\")\n",
    "                i += 1\n",
    "            if i + 1 < len(lines) and not lines[i + 1].startswith(\" \"):\n",
    "                processed_lines.append(\" \" + lines[i + 1].strip() + \"\\n\")\n",
    "                i += 1\n",
    "        i += 1\n",
    "\n",
    "    # Write the processed lines to a new file\n",
    "    with open(output_path, 'w', encoding='utf-8') as f:\n",
    "        f.writelines(processed_lines)"
   ]
  },
  {
   "cell_type": "code",
   "execution_count": null,
   "metadata": {},
   "outputs": [],
   "source": [
    "def parse_ics_to_csv(ics_file, csv_file):\n",
    "    \"\"\"Parse ICS file and export events to CSV.\"\"\"\n",
    "    with open(ics_file, 'r', encoding='utf-8') as f:\n",
    "        calendar = Calendar(f.read())\n",
    "\n",
    "    # Open CSV file for writing\n",
    "    with open(csv_file, mode='w', newline='', encoding='utf-8') as csvfile:\n",
    "        fieldnames = ['Event Name', 'Start Date', 'End Date', 'Location', 'Description']\n",
    "        writer = csv.DictWriter(csvfile, fieldnames=fieldnames)\n",
    "        writer.writeheader()\n",
    "\n",
    "        for event in calendar.events:\n",
    "            writer.writerow({\n",
    "                'Event Name': event.name,\n",
    "                'Start Date': event.begin.format('YYYY-MM-DD HH:mm:ss') if event.begin else '',\n",
    "                'End Date': event.end.format('YYYY-MM-DD HH:mm:ss') if event.end else '',\n",
    "                'Location': event.location or '',\n",
    "                'Description': event.description or ''\n",
    "            })"
   ]
  },
  {
   "cell_type": "code",
   "execution_count": 16,
   "metadata": {},
   "outputs": [],
   "source": [
    "input_ics = \"../icals/kampe5db2b479-c637-46cf-b23b-6fb2736f5352.ics\"\n",
    "fixed_ics = \"fixed_calendar.ics\"\n",
    "output_csv = \"calendar_events.csv\""
   ]
  },
  {
   "cell_type": "code",
   "execution_count": 17,
   "metadata": {},
   "outputs": [],
   "source": [
    "preprocess(input_ics, fixed_ics)"
   ]
  },
  {
   "cell_type": "code",
   "execution_count": 21,
   "metadata": {},
   "outputs": [
    {
     "ename": "AttributeError",
     "evalue": "'_io.TextIOWrapper' object has no attribute 'DictWriter'",
     "output_type": "error",
     "traceback": [
      "\u001b[1;31m---------------------------------------------------------------------------\u001b[0m",
      "\u001b[1;31mAttributeError\u001b[0m                            Traceback (most recent call last)",
      "Cell \u001b[1;32mIn[21], line 1\u001b[0m\n\u001b[1;32m----> 1\u001b[0m parse_ics_to_csv(fixed_ics, output_csv)\n",
      "Cell \u001b[1;32mIn[20], line 9\u001b[0m, in \u001b[0;36mparse_ics_to_csv\u001b[1;34m(ics_file, csv_file)\u001b[0m\n\u001b[0;32m      7\u001b[0m \u001b[38;5;28;01mwith\u001b[39;00m \u001b[38;5;28mopen\u001b[39m(csv_file, mode\u001b[38;5;241m=\u001b[39m\u001b[38;5;124m'\u001b[39m\u001b[38;5;124mw\u001b[39m\u001b[38;5;124m'\u001b[39m, newline\u001b[38;5;241m=\u001b[39m\u001b[38;5;124m'\u001b[39m\u001b[38;5;124m'\u001b[39m, encoding\u001b[38;5;241m=\u001b[39m\u001b[38;5;124m'\u001b[39m\u001b[38;5;124mutf-8\u001b[39m\u001b[38;5;124m'\u001b[39m) \u001b[38;5;28;01mas\u001b[39;00m xlsfile:\n\u001b[0;32m      8\u001b[0m     fieldnames \u001b[38;5;241m=\u001b[39m [\u001b[38;5;124m'\u001b[39m\u001b[38;5;124mEvent Name\u001b[39m\u001b[38;5;124m'\u001b[39m, \u001b[38;5;124m'\u001b[39m\u001b[38;5;124mStart Date\u001b[39m\u001b[38;5;124m'\u001b[39m, \u001b[38;5;124m'\u001b[39m\u001b[38;5;124mEnd Date\u001b[39m\u001b[38;5;124m'\u001b[39m, \u001b[38;5;124m'\u001b[39m\u001b[38;5;124mLocation\u001b[39m\u001b[38;5;124m'\u001b[39m, \u001b[38;5;124m'\u001b[39m\u001b[38;5;124mDescription\u001b[39m\u001b[38;5;124m'\u001b[39m]\n\u001b[1;32m----> 9\u001b[0m     writer \u001b[38;5;241m=\u001b[39m xlsfile\u001b[38;5;241m.\u001b[39mDictWriter(csvfile, fieldnames\u001b[38;5;241m=\u001b[39mfieldnames)\n\u001b[0;32m     10\u001b[0m     writer\u001b[38;5;241m.\u001b[39mwriteheader()\n\u001b[0;32m     12\u001b[0m     \u001b[38;5;28;01mfor\u001b[39;00m event \u001b[38;5;129;01min\u001b[39;00m calendar\u001b[38;5;241m.\u001b[39mevents:\n",
      "\u001b[1;31mAttributeError\u001b[0m: '_io.TextIOWrapper' object has no attribute 'DictWriter'"
     ]
    }
   ],
   "source": [
    "parse_ics_to_csv(fixed_ics, output_csv)"
   ]
  },
  {
   "cell_type": "code",
   "execution_count": 14,
   "metadata": {},
   "outputs": [
    {
     "data": {
      "text/html": [
       "<div>\n",
       "<style scoped>\n",
       "    .dataframe tbody tr th:only-of-type {\n",
       "        vertical-align: middle;\n",
       "    }\n",
       "\n",
       "    .dataframe tbody tr th {\n",
       "        vertical-align: top;\n",
       "    }\n",
       "\n",
       "    .dataframe thead th {\n",
       "        text-align: right;\n",
       "    }\n",
       "</style>\n",
       "<table border=\"1\" class=\"dataframe\">\n",
       "  <thead>\n",
       "    <tr style=\"text-align: right;\">\n",
       "      <th></th>\n",
       "      <th>Event Name</th>\n",
       "      <th>Start Date</th>\n",
       "      <th>End Date</th>\n",
       "      <th>Location</th>\n",
       "      <th>Description</th>\n",
       "    </tr>\n",
       "  </thead>\n",
       "  <tbody>\n",
       "    <tr>\n",
       "      <th>0</th>\n",
       "      <td>U14 Dr. L1: Farum BK - OB</td>\n",
       "      <td>2024-11-09 14:00:00</td>\n",
       "      <td>2024-11-09 15:10:00</td>\n",
       "      <td>Farum ParkFarum Park 183520 Farum</td>\n",
       "      <td>U14 Drenge Liga Øst 1 (11) helår\\nKampnr 91347...</td>\n",
       "    </tr>\n",
       "    <tr>\n",
       "      <th>1</th>\n",
       "      <td>U14 Dr. L1: Farum BK - KB</td>\n",
       "      <td>2024-09-29 13:00:00</td>\n",
       "      <td>2024-09-29 14:10:00</td>\n",
       "      <td>Farum ParkFarum Park 183520 Farum</td>\n",
       "      <td>U14 Drenge Liga Øst 1 (11) helår\\nKampnr 91346...</td>\n",
       "    </tr>\n",
       "    <tr>\n",
       "      <th>2</th>\n",
       "      <td>U14 Dr. L1: Lyngby Boldklub 1921 - Brøndbyerne...</td>\n",
       "      <td>2024-09-28 11:00:00</td>\n",
       "      <td>2024-09-28 12:10:00</td>\n",
       "      <td>Lyngby StadionLundtoftevej 612800 Kgs.Lyngby</td>\n",
       "      <td>U14 Drenge Liga Øst 1 (11) helår\\nKampnr 91346...</td>\n",
       "    </tr>\n",
       "    <tr>\n",
       "      <th>3</th>\n",
       "      <td>U14 Dr. L1: B.93  - HB Køge</td>\n",
       "      <td>2024-09-28 12:00:00</td>\n",
       "      <td>2024-09-28 13:10:00</td>\n",
       "      <td>B 93 Svanemølleanlæg.Ved Sporsløjfen 102100 Kø...</td>\n",
       "      <td>U14 Drenge Liga Øst 1 (11) helår\\nKampnr 91346...</td>\n",
       "    </tr>\n",
       "    <tr>\n",
       "      <th>4</th>\n",
       "      <td>U14 Dr. L1: Brøndbyernes IF - KB</td>\n",
       "      <td>2025-04-17 10:00:00</td>\n",
       "      <td>2025-04-17 11:10:00</td>\n",
       "      <td>Brøndby StadionBrøndby Stadion 302605 Brøndby</td>\n",
       "      <td>U14 Drenge Liga Øst 1 (11) helår\\nKampnr 91346...</td>\n",
       "    </tr>\n",
       "  </tbody>\n",
       "</table>\n",
       "</div>"
      ],
      "text/plain": [
       "                                          Event Name           Start Date  \\\n",
       "0                          U14 Dr. L1: Farum BK - OB  2024-11-09 14:00:00   \n",
       "1                          U14 Dr. L1: Farum BK - KB  2024-09-29 13:00:00   \n",
       "2  U14 Dr. L1: Lyngby Boldklub 1921 - Brøndbyerne...  2024-09-28 11:00:00   \n",
       "3                        U14 Dr. L1: B.93  - HB Køge  2024-09-28 12:00:00   \n",
       "4                   U14 Dr. L1: Brøndbyernes IF - KB  2025-04-17 10:00:00   \n",
       "\n",
       "              End Date                                           Location  \\\n",
       "0  2024-11-09 15:10:00                  Farum ParkFarum Park 183520 Farum   \n",
       "1  2024-09-29 14:10:00                  Farum ParkFarum Park 183520 Farum   \n",
       "2  2024-09-28 12:10:00       Lyngby StadionLundtoftevej 612800 Kgs.Lyngby   \n",
       "3  2024-09-28 13:10:00  B 93 Svanemølleanlæg.Ved Sporsløjfen 102100 Kø...   \n",
       "4  2025-04-17 11:10:00      Brøndby StadionBrøndby Stadion 302605 Brøndby   \n",
       "\n",
       "                                         Description  \n",
       "0  U14 Drenge Liga Øst 1 (11) helår\\nKampnr 91347...  \n",
       "1  U14 Drenge Liga Øst 1 (11) helår\\nKampnr 91346...  \n",
       "2  U14 Drenge Liga Øst 1 (11) helår\\nKampnr 91346...  \n",
       "3  U14 Drenge Liga Øst 1 (11) helår\\nKampnr 91346...  \n",
       "4  U14 Drenge Liga Øst 1 (11) helår\\nKampnr 91346...  "
      ]
     },
     "execution_count": 14,
     "metadata": {},
     "output_type": "execute_result"
    }
   ],
   "source": [
    "df = pd.read_csv(output_csv, encoding='utf-8')\n",
    "df.head(5)"
   ]
  }
 ],
 "metadata": {
  "kernelspec": {
   "display_name": "HimanshuEnviroment",
   "language": "python",
   "name": "python3"
  },
  "language_info": {
   "codemirror_mode": {
    "name": "ipython",
    "version": 3
   },
   "file_extension": ".py",
   "mimetype": "text/x-python",
   "name": "python",
   "nbconvert_exporter": "python",
   "pygments_lexer": "ipython3",
   "version": "3.11.4"
  }
 },
 "nbformat": 4,
 "nbformat_minor": 2
}
