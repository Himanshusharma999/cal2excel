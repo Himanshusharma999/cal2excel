{
 "cells": [
  {
   "cell_type": "code",
   "execution_count": 1,
   "metadata": {},
   "outputs": [],
   "source": [
    "from ics import Calendar\n",
    "import pandas as pd\n",
    "import numpy as np\n",
    "import utils as ut\n",
    "import re"
   ]
  },
  {
   "cell_type": "code",
   "execution_count": 13,
   "metadata": {},
   "outputs": [],
   "source": [
    "def preprocess(file_object, output_path):\n",
    "    \"\"\"\n",
    "    Adjust the formatting of LOCATION lines so that the next two lines are indented\n",
    "    and replace occurrences of \"Ny Stadion\" with Ny Stadion.\n",
    "    \"\"\"\n",
    "    with open(file_object, 'r', encoding='utf-8') as f:\n",
    "        lines = f.readlines()\n",
    "\n",
    "    # Combine all lines into a single string for easier processing\n",
    "    content = ''.join(lines)\n",
    "\n",
    "    # Replace \"Ny Stadion\" with Ny Stadion\n",
    "    content = content.replace('\"Ny Stadion\"', 'Ny Stadion')\n",
    "\n",
    "    # Split the content back into lines\n",
    "    lines = content.splitlines()\n",
    "\n",
    "    processed_lines = []\n",
    "    i = 0\n",
    "    while i < len(lines):\n",
    "        line = lines[i]\n",
    "        processed_lines.append(line + \"\\n\")  # Ensure lines retain newline characters\n",
    "\n",
    "        # Check if this line is a LOCATION line\n",
    "        if line.startswith(\"LOCATION:\"):\n",
    "            # Indent the next two lines if they exist\n",
    "            if i + 1 < len(lines) and not lines[i + 1].startswith(\" \"):\n",
    "                processed_lines.append(\" \" + lines[i + 1].strip() + \"\\n\")\n",
    "                i += 1\n",
    "            if i + 1 < len(lines) and not lines[i + 1].startswith(\" \"):\n",
    "                processed_lines.append(\" \" + lines[i + 1].strip() + \"\\n\")\n",
    "                i += 1\n",
    "        i += 1\n",
    "\n",
    "    # Write the processed lines back to the output file\n",
    "    with open(output_path, 'w', encoding='utf-8') as f:\n",
    "        f.writelines(processed_lines)\n"
   ]
  },
  {
   "cell_type": "code",
   "execution_count": 14,
   "metadata": {},
   "outputs": [],
   "source": [
    "preprocess(\"../icals/kampe9b1978b9-7540-4643-a79a-b4225180718b.ics\", \"fixed/test2.ics\")"
   ]
  },
  {
   "cell_type": "code",
   "execution_count": 15,
   "metadata": {},
   "outputs": [],
   "source": [
    "ut.parse_ics_to_csv(\"fixed/test2.ics\", \"csvs/test2.csv\")"
   ]
  },
  {
   "cell_type": "code",
   "execution_count": 6,
   "metadata": {},
   "outputs": [],
   "source": [
    "df = ut.mk_df()"
   ]
  },
  {
   "cell_type": "code",
   "execution_count": 8,
   "metadata": {},
   "outputs": [],
   "source": [
    "with open(\"csvs/fixed_calendar.csv\", 'r', encoding='utf-8') as f:\n",
    "    raw_data = f.read()\n",
    "\n",
    "    # Split the data into entries by matching content between double quotes\n",
    "entries = re.findall(r'\"(.*?)\"', raw_data, re.DOTALL)"
   ]
  },
  {
   "cell_type": "code",
   "execution_count": 9,
   "metadata": {},
   "outputs": [
    {
     "data": {
      "text/plain": [
       "['U14 Drenge Liga Øst 2 forår (11) 2025\\nKampnr 720862\\n\\nHørsholm-Usserød IK - Hvidovre IF\\n\\nHørsholm Idrætspark\\nStadionalle 5\\n2960 Rungsted Kyst\\n\\n25-05-2025 kl. 12:00',\n",
       " 'U14 Drenge Liga Øst 2 forår (11) 2025\\nKampnr 720863\\n\\nAC Amager Academy - Næstved I.F.\\n\\nSundby Idrætspark\\nEnglandsvej 61\\n2300 København S\\n\\n01-06-2025 kl. 12:00',\n",
       " \"U14 Drenge Liga Øst 2 forår (11) 2025\\nKampnr 720864\\n\\nHvidovre IF - FB\\n\\nHvidovre IF's baner\\nHvidovrevej 311\\n2650 Hvidovre\\n\\n31-05-2025 kl. 10:00\",\n",
       " 'U14 Drenge Liga Øst 2 forår (11) 2025\\nKampnr 720865\\n\\nAB - Hørsholm-Usserød IK\\n\\nAkademisk Boldklub\\nSkovdiget 1\\n2880 Bagsværd\\n\\n01-06-2025 kl. 12:00',\n",
       " 'U14 Drenge Liga Øst 2 forår (11) 2025\\nKampnr 720866\\n\\nRoskilde Boldklub - BSF\\n\\nRoskilde Idrætspark Kunstgræs\\nRådmandshaven 6\\n4000 Roskilde\\n\\n01-06-2025 kl. 12:00',\n",
       " \"U14 Drenge Liga Øst 2 forår (11) 2025\\nKampnr 720867\\n\\nHvidovre IF - AC Amager Academy\\n\\nHvidovre IF's baner\\nHvidovrevej 311\\n2650 Hvidovre\\n\\n04-06-2025 kl. 19:00\",\n",
       " 'U14 Drenge Liga Øst 2 forår (11) 2025\\nKampnr 720868\\n\\nBSF - FB\\n\\nBallerup Idrætspark\\nMarbækvej 12\\n2750 Ballerup\\n\\n04-06-2025 kl. 18:30',\n",
       " 'U14 Drenge Liga Øst 2 forår (11) 2025\\nKampnr 720869\\n\\nRoskilde Boldklub - AB\\n\\nRoskilde Idrætspark Kunstgræs\\nRådmandshaven 6\\n4000 Roskilde\\n\\n04-06-2025 kl. 19:00',\n",
       " 'U14 Drenge Liga Øst 2 forår (11) 2025\\nKampnr 418180\\n\\nAB - AC Amager Academy\\n\\nAkademisk Boldklub\\nSkovdiget 1\\n2880 Bagsværd\\n\\n04-05-2025 kl. 12:00',\n",
       " 'U14 Drenge Liga Øst 2 forår (11) 2025\\nKampnr 418181\\n\\nNæstved I.F. - FB\\n\\nNæstved IF Fodbold Idrætsanlæg\\nRolighedsvej 25\\n4700 Næstved\\n\\n04-05-2025 kl. 12:00',\n",
       " 'U14 Drenge Liga Øst 2 forår (11) 2025\\nKampnr 418182\\n\\nRoskilde Boldklub - Hvidovre IF\\n\\nRoskilde Idrætspark Kunstgræs\\nRådmandshaven 6\\n4000 Roskilde\\n\\n04-05-2025 kl. 12:00',\n",
       " 'U14 Drenge Liga Øst 2 forår (11) 2025\\nKampnr 418183\\n\\nFB - AC Amager Academy\\n\\nJens Jessens Vej\\nJens Jessens Vej 20\\n2000 Frederiksberg\\n\\n11-05-2025 kl. 14:00',\n",
       " 'U14 Drenge Liga Øst 2 forår (11) 2025\\nKampnr 418174\\n\\nNæstved I.F. - Hørsholm-Usserød IK\\n\\nNæstved IF Fodbold Idrætsanlæg\\nRolighedsvej 25\\n4700 Næstved\\n\\n13-04-2025 kl. 12:00',\n",
       " \"U14 Drenge Liga Øst 2 forår (11) 2025\\nKampnr 418175\\n\\nHvidovre IF - AB\\n\\nHvidovre IF's baner\\nHvidovrevej 311\\n2650 Hvidovre\\n\\n26-04-2025 kl. 10:00\",\n",
       " 'U14 Drenge Liga Øst 2 forår (11) 2025\\nKampnr 418176\\n\\nBSF - Næstved I.F.\\n\\nBallerup Idrætspark, Kunstgræs\\nMarbækvej 12\\n2750 Ballerup\\n\\n26-04-2025 kl. 13:00',\n",
       " 'U14 Drenge Liga Øst 2 forår (11) 2025\\nKampnr 418177\\n\\nRoskilde Boldklub - AC Amager Academy\\n\\nRoskilde Idrætspark Kunstgræs\\nRådmandshaven 6\\n4000 Roskilde\\n\\n27-04-2025 kl. 12:00',\n",
       " 'U14 Drenge Liga Øst 2 forår (11) 2025\\nKampnr 418178\\n\\nHørsholm-Usserød IK - FB\\n\\nHørsholm Idrætspark\\nStadionalle 5\\n2960 Rungsted Kyst\\n\\n27-04-2025 kl. 12:00',\n",
       " 'U14 Drenge Liga Øst 2 forår (11) 2025\\nKampnr 418179\\n\\nBSF - Hørsholm-Usserød IK\\n\\nBallerup Idrætspark\\nMarbækvej 12\\n2750 Ballerup\\n\\n04-05-2025 kl. 13:00',\n",
       " 'U14 Drenge Liga Øst 2 forår (11) 2025\\nKampnr 720893\\n\\nFB - Hørsholm-Usserød IK\\n\\nJens Jessens Vej\\nJens Jessens Vej 20\\n2000 Frederiksberg\\n\\n15-06-2025 kl. 14:00',\n",
       " 'U14 Drenge Liga Øst 2 forår (11) 2025\\nKampnr 720894\\n\\nAB - Hvidovre IF\\n\\nAkademisk Boldklub\\nSkovdiget 1\\n2880 Bagsværd\\n\\n15-06-2025 kl. 12:00',\n",
       " 'U14 Drenge Liga Øst 2 forår (11) 2025\\nKampnr 720895\\n\\nNæstved I.F. - BSF\\n\\nNæstved IF Fodbold Idrætsanlæg\\nRolighedsvej 25\\n4700 Næstved\\n\\n15-06-2025 kl. 12:00',\n",
       " 'U14 Drenge Liga Øst 2 forår (11) 2025\\nKampnr 720896\\n\\nAC Amager Academy - AB\\n\\nSundby Idrætspark\\nEnglandsvej 61\\n2300 København S\\n\\n22-06-2025 kl. 12:00',\n",
       " 'U14 Drenge Liga Øst 2 forår (11) 2025\\nKampnr 720897\\n\\nFB - Næstved I.F.\\n\\nJens Jessens Vej\\nJens Jessens Vej 20\\n2000 Frederiksberg\\n\\n22-06-2025 kl. 12:00',\n",
       " \"U14 Drenge Liga Øst 2 forår (11) 2025\\nKampnr 720898\\n\\nHvidovre IF - Roskilde Boldklub\\n\\nHvidovre IF's baner\\nHvidovrevej 311\\n2650 Hvidovre\\n\\n22-06-2025 kl. 12:00\",\n",
       " 'U14 Drenge Liga Øst 2 forår (11) 2025\\nKampnr 720899\\n\\nHørsholm-Usserød IK - BSF\\n\\nHørsholm Idrætspark\\nStadionalle 5\\n2960 Rungsted Kyst\\n\\n22-06-2025 kl. 12:00',\n",
       " 'U14 Drenge Liga Øst 2 forår (11) 2025\\nKampnr 418161\\n\\nFB - BSF\\n\\nJens Jessens Vej\\nJens Jessens Vej 20\\n2000 Frederiksberg\\n\\n13-04-2025 kl. 14:00',\n",
       " 'U14 Drenge Liga Øst 2 forår (11) 2025\\nKampnr 418162\\n\\nAB - Roskilde Boldklub\\n\\nAkademisk Boldklub\\nSkovdiget 1\\n2880 Bagsværd\\n\\n13-04-2025 kl. 12:00',\n",
       " 'U14 Drenge Liga Øst 2 forår (11) 2025\\nKampnr 418160\\n\\nAC Amager Academy - Hvidovre IF\\n\\nSundby Idrætspark\\nEnglandsvej 61\\n2300 K��benhavn S\\n\\n13-04-2025 kl. 12:00',\n",
       " 'U14 Drenge Liga Øst 2 forår (11) 2025\\nKampnr 418230\\n\\nBSF - Hvidovre IF\\n\\nBallerup Idrætspark\\nMarbækvej 12\\n2750 Ballerup\\n\\n11-05-2025 kl. 13:00',\n",
       " 'U14 Drenge Liga Øst 2 forår (11) 2025\\nKampnr 418231\\n\\nNæstved I.F. - AB\\n\\nNæstved IF Fodbold Idrætsanlæg\\nRolighedsvej 25\\n4700 Næstved\\n\\n11-05-2025 kl. 12:00',\n",
       " 'U14 Drenge Liga Øst 2 forår (11) 2025\\nKampnr 418232\\n\\nHørsholm-Usserød IK - Roskilde Boldklub\\n\\nHørsholm Idrætspark\\nStadionalle 5\\n2960 Rungsted Kyst\\n\\n11-05-2025 kl. 12:00',\n",
       " 'U14 Drenge Liga Øst 2 forår (11) 2025\\nKampnr 418233\\n\\nAC Amager Academy - Hørsholm-Usserød IK\\n\\nSundby Idrætspark\\nEnglandsvej 61\\n2300 København S\\n\\n18-05-2025 kl. 12:00',\n",
       " \"U14 Drenge Liga Øst 2 forår (11) 2025\\nKampnr 418234\\n\\nHvidovre IF - Næstved I.F.\\n\\nHvidovre IF's baner\\nHvidovrevej 311\\n2650 Hvidovre\\n\\n17-05-2025 kl. 10:00\",\n",
       " 'U14 Drenge Liga Øst 2 forår (11) 2025\\nKampnr 418235\\n\\nAB - BSF\\n\\nAkademisk Boldklub\\nSkovdiget 1\\n2880 Bagsværd\\n\\n18-05-2025 kl. 12:00',\n",
       " 'U14 Drenge Liga Øst 2 forår (11) 2025\\nKampnr 418236\\n\\nRoskilde Boldklub - FB\\n\\nRoskilde Idrætspark Kunstgræs\\nRådmandshaven 6\\n4000 Roskilde\\n\\n18-05-2025 kl. 12:00',\n",
       " 'U14 Drenge Liga Øst 2 forår (11) 2025\\nKampnr 418237\\n\\nFB - AB\\n\\nJens Jessens Vej\\nJens Jessens Vej 20\\n2000 Frederiksberg\\n\\n25-05-2025 kl. 14:00',\n",
       " 'U14 Drenge Liga Øst 2 forår (11) 2025\\nKampnr 418238\\n\\nBSF - AC Amager Academy\\n\\nBallerup Idrætspark\\nMarbækvej 12\\n2750 Ballerup\\n\\n25-05-2025 kl. 13:00',\n",
       " 'U14 Drenge Liga Øst 2 forår (11) 2025\\nKampnr 418239\\n\\nNæstved I.F. - Roskilde Boldklub\\n\\nNæstved IF Fodbold Idrætsanlæg\\nRolighedsvej 25\\n4700 Næstved\\n\\n25-05-2025 kl. 12:00',\n",
       " 'U14 Drenge Liga Øst 2 forår (11) 2025\\nKampnr 418150\\n\\nNæstved I.F. - Hvidovre IF\\n\\nNæstved IF Fodbold Idrætsanlæg\\nRolighedsvej 25\\n4700 Næstved\\n\\n23-03-2025 kl. 12:00',\n",
       " 'U14 Drenge Liga Øst 2 forår (11) 2025\\nKampnr 418151\\n\\nHørsholm-Usserød IK - AC Amager Academy\\n\\nHørsholm Idrætspark\\nStadionalle 5\\n2960 Rungsted Kyst\\n\\n23-03-2025 kl. 12:00',\n",
       " 'U14 Drenge Liga Øst 2 forår (11) 2025\\nKampnr 418152\\n\\nAC Amager Academy - BSF\\n\\nSundby Idrætspark\\nEnglandsvej 61\\n2300 København S\\n\\n30-03-2025 kl. 12:00',\n",
       " \"U14 Drenge Liga Øst 2 forår (11) 2025\\nKampnr 418153\\n\\nHvidovre IF - Hørsholm-Usserød IK\\n\\nHvidovre IF's baner\\nHvidovrevej 311\\n2650 Hvidovre\\n\\n29-03-2025 kl. 10:00\",\n",
       " 'U14 Drenge Liga Øst 2 forår (11) 2025\\nKampnr 418154\\n\\nAB - FB\\n\\nAkademisk Boldklub\\nSkovdiget 1\\n2880 Bagsværd\\n\\n30-03-2025 kl. 12:00',\n",
       " 'U14 Drenge Liga Øst 2 forår (11) 2025\\nKampnr 418155\\n\\nRoskilde Boldklub - Næstved I.F.\\n\\nRoskilde Idrætspark Kunstgræs\\nRådmandshaven 6\\n4000 Roskilde\\n\\n30-03-2025 kl. 12:00',\n",
       " 'U14 Drenge Liga Øst 2 forår (11) 2025\\nKampnr 418156\\n\\nFB - Hvidovre IF\\n\\nJens Jessens Vej\\nJens Jessens Vej 20\\n2000 Frederiksberg\\n\\n06-04-2025 kl. 14:00',\n",
       " 'U14 Drenge Liga Øst 2 forår (11) 2025\\nKampnr 418157\\n\\nBSF - Roskilde Boldklub\\n\\nBallerup Idrætspark, Kunstgræs\\nMarbækvej 12\\n2750 Ballerup\\n\\n06-04-2025 kl. 13:00',\n",
       " 'U14 Drenge Liga Øst 2 forår (11) 2025\\nKampnr 418158\\n\\nNæstved I.F. - AC Amager Academy\\n\\nNæstved IF Fodbold Idrætsanlæg\\nRolighedsvej 25\\n4700 Næstved\\n\\n06-04-2025 kl. 12:00',\n",
       " 'U14 Drenge Liga Øst 2 forår (11) 2025\\nKampnr 418159\\n\\nHørsholm-Usserød IK - AB\\n\\nHørsholm Idrætspark\\nStadionalle 5\\n2960 Rungsted Kyst\\n\\n06-04-2025 kl. 12:00',\n",
       " 'U14 Drenge Liga Øst 2 forår (11) 2025\\nKampnr 720870\\n\\nHørsholm-Usserød IK - Næstved I.F.\\n\\nHørsholm Idrætspark\\nStadionalle 5\\n2960 Rungsted Kyst\\n\\n04-06-2025 kl. 19:00',\n",
       " 'U14 Drenge Liga Øst 2 forår (11) 2025\\nKampnr 720871\\n\\nAC Amager Academy - Roskilde Boldklub\\n\\nSundby Idrætspark\\nEnglandsvej 61\\n2300 København S\\n\\n15-06-2025 kl. 12:00',\n",
       " 'U14 Drenge Liga Øst 2 forår (11) 2025\\nKampnr 418144\\n\\nAC Amager Academy - FB\\n\\nSundby Idrætspark\\nEnglandsvej 61\\n2300 København S\\n\\n16-03-2025 kl. 12:00',\n",
       " 'U14 Drenge Liga Øst 2 forår (11) 2025\\nKampnr 418145\\n\\nHvidovre IF - BSF\\n\\nAvedøre Stadion Kunstgræs\\nByvej 72\\n2650 Hvidovre\\n\\n15-03-2025 kl. 16:00',\n",
       " 'U14 Drenge Liga Øst 2 forår (11) 2025\\nKampnr 418146\\n\\nAB - Næstved I.F.\\n\\nAkademisk Boldklub\\nSkovdiget 1\\n2880 Bagsværd\\n\\n16-03-2025 kl. 12:00',\n",
       " 'U14 Drenge Liga Øst 2 forår (11) 2025\\nKampnr 418147\\n\\nRoskilde Boldklub - Hørsholm-Usserød IK\\n\\nRoskilde Idrætspark Kunstgræs\\nRådmandshaven 6\\n4000 Roskilde\\n\\n16-03-2025 kl. 12:00',\n",
       " 'U14 Drenge Liga Øst 2 forår (11) 2025\\nKampnr 418148\\n\\nFB - Roskilde Boldklub\\n\\nJens Jessens Vej\\nJens Jessens Vej 20\\n2000 Frederiksberg\\n\\n23-03-2025 kl. 14:00',\n",
       " 'U14 Drenge Liga Øst 2 forår (11) 2025\\nKampnr 418149\\n\\nBSF - AB\\n\\nBallerup Idrætspark, Kunstgræs\\nMarbækvej 12\\n2750 Ballerup\\n\\n22-03-2025 kl. 13:00']"
      ]
     },
     "execution_count": 9,
     "metadata": {},
     "output_type": "execute_result"
    }
   ],
   "source": [
    "entries"
   ]
  },
  {
   "cell_type": "code",
   "execution_count": 11,
   "metadata": {},
   "outputs": [],
   "source": [
    "df = ut.fill_df(df, \"csvs/fixed_calendar.csv\")"
   ]
  },
  {
   "cell_type": "code",
   "execution_count": 17,
   "metadata": {},
   "outputs": [
    {
     "data": {
      "text/plain": [
       "'U14 Drenge Liga Øst 2 forår (11) 2025'"
      ]
     },
     "execution_count": 17,
     "metadata": {},
     "output_type": "execute_result"
    }
   ],
   "source": [
    "df['Række'].loc[0]"
   ]
  }
 ],
 "metadata": {
  "kernelspec": {
   "display_name": "HimanshuEnviroment",
   "language": "python",
   "name": "python3"
  },
  "language_info": {
   "codemirror_mode": {
    "name": "ipython",
    "version": 3
   },
   "file_extension": ".py",
   "mimetype": "text/x-python",
   "name": "python",
   "nbconvert_exporter": "python",
   "pygments_lexer": "ipython3",
   "version": "3.11.10"
  }
 },
 "nbformat": 4,
 "nbformat_minor": 2
}
